{
  "cells": [
    {
      "cell_type": "markdown",
      "metadata": {
        "id": "aLezyOKT9lNj"
      },
      "source": [
        "## Installing Libraries"
      ]
    },
    {
      "cell_type": "code",
      "execution_count": null,
      "metadata": {
        "id": "Hk5re3BM9MwV"
      },
      "outputs": [],
      "source": [
        "!pip install langchain\n",
        "!pip install langchain_openai\n",
        "!pip install langchain_google_genai"
      ]
    },
    {
      "cell_type": "markdown",
      "metadata": {
        "id": "8NNl2TyZ_pOp"
      },
      "source": [
        "## Setting API Key\n"
      ]
    },
    {
      "cell_type": "code",
      "execution_count": 1,
      "metadata": {
        "id": "oj_8KeZ8C8dH"
      },
      "outputs": [],
      "source": [
        "import os\n",
        "os.environ[\"OPENAI_API_KEY\"] = \"--- YOUR API KEY HERE ----\"\n",
        "os.environ[\"GOOGLE_API_KEY\"] = \"--- YOUR API KEY HERE ----\""
      ]
    },
    {
      "cell_type": "markdown",
      "metadata": {
        "id": "ez1snV3AE8Ji"
      },
      "source": [
        "## Importing Libraries\n"
      ]
    },
    {
      "cell_type": "code",
      "execution_count": 2,
      "metadata": {
        "id": "4E-19J0RERjS"
      },
      "outputs": [],
      "source": [
        "from langchain_openai import ChatOpenAI\n",
        "from langchain_google_genai import GoogleGenerativeAI\n",
        "from langchain.chains import LLMChain\n",
        "from langchain.prompts import PromptTemplate\n",
        "from langchain.prompts.few_shot import FewShotPromptTemplate\n",
        "from langchain.prompts.prompt import PromptTemplate"
      ]
    },
    {
      "cell_type": "markdown",
      "metadata": {
        "id": "kFGMaUmEFBus"
      },
      "source": [
        "## Setting Up Models"
      ]
    },
    {
      "cell_type": "code",
      "execution_count": 3,
      "metadata": {
        "id": "Yux42Y009xTs"
      },
      "outputs": [],
      "source": [
        "openAi_model = ChatOpenAI(model_name=\"gpt-3.5-turbo-0125\", temperature=0)\n",
        "googleAi_model = GoogleGenerativeAI(model=\"gemini-pro\", temperature=0)"
      ]
    },
    {
      "cell_type": "markdown",
      "metadata": {
        "id": "Spwn0dnRFHDI"
      },
      "source": [
        "#Task 1\n",
        "# Social Media Post Writer\n"
      ]
    },
    {
      "cell_type": "markdown",
      "metadata": {
        "id": "rVtSErH5STNi"
      },
      "source": [
        "## 1 .Creating Few Shot Prompt Template\n",
        "As the requirement of problem says, the ouptut should be identical to the example provided depending upon the answers of the user.\n",
        "\n",
        "For this case, we can use few shot prompts. As, LLM follows the pattern of the provided example to answer the problem.\n"
      ]
    },
    {
      "cell_type": "markdown",
      "metadata": {
        "id": "-zWSztbVELfA"
      },
      "source": [
        "### 1.1 Initializing Examples & Suffix\n",
        "Suffix is a template where user provided answers will be added."
      ]
    },
    {
      "cell_type": "code",
      "execution_count": 4,
      "metadata": {
        "id": "u0V77Rl5AFqn"
      },
      "outputs": [],
      "source": [
        "example = [\n",
        "    {\n",
        "        \"Questions/Answers\": \"\"\"\n",
        "Q1. Can you describe the specific case study or transformation story you want to share?\n",
        "Ans. successful collaboration between Sodexo and CoachHub to accelerate leadership development across the APMEA region.\n",
        "Q2. What challenge or problem was addressed in this case?\n",
        "Ans. The challenge addressed in this case was the need for scalable leadership development programs that could effectively engage and develop employees across diverse\n",
        "geographic regions, particularly in the Asia Pacific, Middle East, and Africa (APMEA).\n",
        "Q3. What were the key results or outcomes achieved in this story?\n",
        "Ans. The key results achieved in this story include the implementation of scalable coaching programs powered by AI and analytics, which led to improved knowledge retention,\n",
        "enhanced leadership skills, and increased employee engagement across the APMEA region.\n",
        "Q4. Are there any data, quotes, or testimonials that illustrate the impact?\n",
        "Ans. 75% of classroom-style training is forgotten if it's not implemented within 6 days after.\n",
        "Q5. Is there a specific call-to-action?\n",
        "Ans. Join thousands of coachees like Sodexo's Head of FMCG Accounts, Jean Baptiste CALEMARD, on a journey of growth and transformation to explore the greater you.\n",
        "Q6. Are there any specific hashtags you’d like to include?\n",
        "Ans.\n",
        "#ExploreTheGreaterYou\n",
        "https://bit.ly/3LMxIHg\n",
        "Q7. Describe your desired tone and style.\n",
        "Ans. professional and make sure to write the achievements in the form of points\n",
        "\"\"\",\n",
        "        \"Post\": \"\"\"\n",
        "𝗗𝗶𝗱 𝘆𝗼𝘂 𝗸𝗻𝗼𝘄? 75% of classroom-style training is forgotten if it's not implemented within 6\n",
        "days after.\n",
        "Discover how Sodexo, a world leader in facilities management and food services, joined\n",
        "forces with CoachHub to accelerate their leadership development across APMEA:\n",
        "🚀 Scalable coaching programs powered by AI and analytics with local support\n",
        "🌎 Access to a diverse pool of 3,500 top certified coaches from around the world\n",
        "🌟 Unlimited, structured coaching sessions and flexibility 24/7 for a hybrid, mobile workforce\n",
        "🧠 Boost knowledge retention and engagement with global benchmarking\n",
        "✅ Quick implementation with low administrative burden\n",
        "Join thousands of coachees like Sodexo's Head of FMCG Accounts, Jean Baptiste\n",
        "CALEMARD, on a journey of growth and transformation to #ExploreTheGreaterYou:\n",
        "https://bit.ly/3LMxIHg\n",
        "\"\"\",\n",
        "    }\n",
        "]\n",
        "\n",
        "# print(example_prompt.format(**example[0]))\n",
        "\n",
        "# Suffix\n",
        "inputQA =\"\"\"\n",
        "Questions/Answers:\n",
        "Q1. Describe the specific case study or transformation story you want to share.\n",
        "Ans: {a1}\n",
        "Q2. What challenge or problem was addressed in this case?\n",
        "Ans: {a2}\n",
        "Q3. What were the key results or outcomes achieved in this story?\n",
        "Ans: {a3}\n",
        "Q4. Are there any data, quotes, or testimonials that illustrate the impact?\n",
        "Ans: {a4}\n",
        "Q5. Is there a specific call-to-action?\n",
        "Ans: {a5}\n",
        "Q6. Are there any specific hashtags you’d like to include?\n",
        "Ans: {a6}\n",
        "Q7. Describe your desired tone and style.\n",
        "Ans: {a7}\n",
        "\n",
        "Social Media Post:\n",
        "\"\"\""
      ]
    },
    {
      "cell_type": "markdown",
      "metadata": {
        "id": "KMo_RDRcETNM"
      },
      "source": [
        "### 1.2 Creating a formatter for the few-shot examples\n",
        "Formatter is needed to format the values in examples dictionary.\n",
        "We can format the example as follows,\n",
        "\n",
        "Input:\n",
        "\n",
        "Output:\n",
        "\n",
        "The formatted examples are Prompt Template Object"
      ]
    },
    {
      "cell_type": "code",
      "execution_count": 5,
      "metadata": {
        "id": "1ZbmnkeaEZUe"
      },
      "outputs": [],
      "source": [
        "example_prompt = PromptTemplate(\n",
        "    input_variables=[\"Questions/Answers\", \"Post\"], template=\"Questions/Answers: {Questions/Answers}\\nSocial Media Post:{Post}\"\n",
        ")"
      ]
    },
    {
      "cell_type": "markdown",
      "metadata": {
        "id": "xX1OtEsFErP5"
      },
      "source": [
        "### 1.3 Feed examples and formatter to FewShotPromptTemplate"
      ]
    },
    {
      "cell_type": "code",
      "execution_count": 6,
      "metadata": {
        "id": "QJQTVzAPEsI0"
      },
      "outputs": [],
      "source": [
        "prompt = FewShotPromptTemplate(\n",
        "    examples=example,\n",
        "    example_prompt=example_prompt,\n",
        "    suffix= inputQA,\n",
        "    input_variables=[\"a1\",\"a2\",\"a3\",\"a4\",\"a5\",\"a6\",\"a7\"],\n",
        ")"
      ]
    },
    {
      "cell_type": "markdown",
      "metadata": {
        "id": "sGircffOAqk0"
      },
      "source": [
        "## 2 .Making call to LLM"
      ]
    },
    {
      "cell_type": "markdown",
      "metadata": {
        "id": "r_uqlE4bGvwv"
      },
      "source": [
        "### 2.1 Same Query as example\n",
        "The provided answers are same as the few shot exmaple provided"
      ]
    },
    {
      "cell_type": "code",
      "execution_count": 7,
      "metadata": {
        "colab": {
          "base_uri": "https://localhost:8080/"
        },
        "id": "cMUEeBnLGvVk",
        "outputId": "31b7c0d5-f336-4d25-ead1-08cc8057ff82"
      },
      "outputs": [
        {
          "name": "stderr",
          "output_type": "stream",
          "text": [
            "/usr/local/lib/python3.10/dist-packages/langchain_core/_api/deprecation.py:117: LangChainDeprecationWarning: The function `run` was deprecated in LangChain 0.1.0 and will be removed in 0.2.0. Use invoke instead.\n",
            "  warn_deprecated(\n"
          ]
        },
        {
          "name": "stdout",
          "output_type": "stream",
          "text": [
            "Did you know? 75% of classroom-style training is forgotten if it's not implemented within 6 days after. Discover how Sodexo and CoachHub collaborated to accelerate leadership development in the APMEA region:\n",
            "🚀 Scalable coaching programs powered by AI and analytics with local support\n",
            "🌎 Access to a diverse pool of 3,500 top certified coaches worldwide\n",
            "🌟 Unlimited, structured coaching sessions for a hybrid, mobile workforce\n",
            "🧠 Boost knowledge retention and engagement with global benchmarking\n",
            "✅ Quick implementation with low administrative burden\n",
            "Join Sodexo's Head of FMCG Accounts, Jean Baptiste CALEMARD, and others on a journey of growth and transformation to #ExploreTheGreaterYou: https://bit.ly/3LMxIHg\n"
          ]
        }
      ],
      "source": [
        "chain = LLMChain(llm = openAi_model, prompt=prompt)\n",
        "print(chain.run(a1=\"successful collaboration between Sodexo and CoachHub to accelerate leadership development across the APMEA region.\",\n",
        "                    a2=\"The challenge addressed in this case was the need for scalable leadership development programs that could effectively engage and develop employees across diverse geographic regions, particularly in the Asia Pacific, Middle East, and Africa (APMEA).\",\n",
        "                    a3=\"The key results achieved in this story include the implementation of scalable coaching programs powered by AI and analytics, which led to improved knowledge retention, enhanced leadership skills, and increased employee engagement across the APMEA region.\",\n",
        "                    a4=\"75% of classroom-style training is forgotten if it's not implemented within 6 days after.\",\n",
        "                    a5=\"Join thousands of coachees like Sodexo's Head of FMCG Accounts, Jean Baptiste CALEMARD, on a journey of growth and transformation to explore the greater you.\",\n",
        "                    a6=\"\"\"\n",
        "                      #ExploreTheGreaterYou\n",
        "                      https://bit.ly/3LMxIHg\"\"\",\n",
        "                    a7=\"professional and make sure to write the achievements in the form of points\"\n",
        "                    ))"
      ]
    },
    {
      "cell_type": "markdown",
      "metadata": {
        "id": "Fc5HT-XEGu7m"
      },
      "source": [
        "### 2.2 Different Answers from Example\n"
      ]
    },
    {
      "cell_type": "code",
      "execution_count": 8,
      "metadata": {
        "colab": {
          "base_uri": "https://localhost:8080/"
        },
        "id": "K6gAyt0CAqLm",
        "outputId": "420e0225-df2e-42d5-9980-a504621521db"
      },
      "outputs": [
        {
          "name": "stdout",
          "output_type": "stream",
          "text": [
            "Did you know? Our new training approach has led to a 50% increase in employee retention and a 30% rise in customer satisfaction ratings. Join us in revolutionizing employee training and unlocking the full potential of your workforce today with ABC Corporation and XYZ Consulting:\n",
            "🌟 Interactive virtual training sessions\n",
            "🎯 Personalized learning paths tailored to individual needs\n",
            "🚀 Significant increase in employee satisfaction with training programs\n",
            "💼 Notable boost in overall productivity across departments\n",
            "Take the first step towards a #TrainingRevolution and #UnlockPotential in the #FutureOfWork. Join us now!\n"
          ]
        }
      ],
      "source": [
        "chain = LLMChain(llm = openAi_model, prompt=prompt)\n",
        "print(chain.run(a1=\"A successful partnership between ABC Corporation and XYZ Consulting to revolutionize employee training methods across various departments.\",\n",
        "                    a2=\"This collaboration aimed to tackle the challenge of outdated training methods that were failing to effectively engage employees and develop their skills in a rapidly changing business landscape\",\n",
        "                    a3=\"The key outcomes of this partnership include the introduction of interactive virtual training sessions, personalized learning paths tailored to individual employee needs, a significant increase in employee satisfaction with training programs, and a notable boost in overall productivity across departments.\",\n",
        "                    a4=\"Our new training approach has led to a 50% increase in employee retention and a 30% rise in customer satisfaction ratings. - CEO of ABC Corporation.\",\n",
        "                    a5=\"Join us in revolutionizing employee training and unlocking the full potential of your workforce today!\",\n",
        "                    a6=\"#TrainingRevolution #UnlockPotential #FutureOfWork\",\n",
        "                    a7=\"Maintain a professional tone throughout, and emphasize key achievements using bullet points for clarity and impact.\"\n",
        "                    ))"
      ]
    },
    {
      "cell_type": "markdown",
      "metadata": {
        "id": "FHHhDhu5JkKo"
      },
      "source": [
        "# Task 2\n",
        "# Student Specific Study Plan Generator\n",
        "- Converting CSV data to Dictionary\n",
        "- Tailoring the Prompt according to usecase"
      ]
    },
    {
      "cell_type": "markdown",
      "metadata": {
        "id": "gejvvC9ZFprq"
      },
      "source": [
        "#### Reading CSV File & Converting the data into dictionary\n",
        "\n",
        "The provided csv File was empty, so I used AI generated dummy data for the task."
      ]
    },
    {
      "cell_type": "code",
      "execution_count": 40,
      "metadata": {
        "colab": {
          "base_uri": "https://localhost:8080/"
        },
        "id": "roU9xm7vCPhe",
        "outputId": "3fc3ce08-f16a-4d93-d4e9-993ea8f43a7e"
      },
      "outputs": [
        {
          "data": {
            "text/plain": [
              "{'Name': 'John Doe',\n",
              " 'Field of study': 'Computer Science',\n",
              " 'Year of study': '1',\n",
              " 'List of subjects': 'Programming',\n",
              " 'Preferred Learning Styles': 'Visual',\n",
              " 'Personal Objectives': 'To become a software engineer',\n",
              " 'Challenges': 'Time management',\n",
              " 'Extracurricular activities': 'Sports'}"
            ]
          },
          "execution_count": 40,
          "metadata": {},
          "output_type": "execute_result"
        }
      ],
      "source": [
        "# import csv\n",
        "import csv\n",
        "# read csv file to a list of dictionaries\n",
        "with open('StudentData.csv', 'r') as file:\n",
        "    csv_reader = csv.DictReader(file)\n",
        "    data = [row for row in csv_reader]\n",
        "data[0]"
      ]
    },
    {
      "cell_type": "markdown",
      "metadata": {
        "id": "f6xIhz1NGTgX"
      },
      "source": [
        "#### Prompt\n",
        "The structure of prompt is as follows:\n",
        "- Understanding the data\n",
        "- 3 Instructions to perform the task\n",
        "  * What is the Task\n",
        "  * What attributes from the data should be considered for the study plan\n",
        "  * Extra Instructions of Improved Study plan\n",
        "- Format of the output"
      ]
    },
    {
      "cell_type": "code",
      "execution_count": 45,
      "metadata": {
        "id": "ISFxo0cbvnsg"
      },
      "outputs": [],
      "source": [
        "prompt_template = PromptTemplate.from_template(\n",
        "\"\"\"\n",
        "The following Students' data contains, these columns:  Name of student, Field of study, Year of study, List of subjects, Preferred Learning Styles, Personal Objectives, Challenges, Extracurricular activities.\n",
        "{data}\n",
        "\n",
        "Your task is to create personalized study plan tailored to student's individual needs and aspirations.\n",
        "\n",
        "Analyze data on subjects and academic performance, preferred learning styles, extracurricular activities, and personal objectives or challenges.\n",
        "\n",
        "Ensure that study plan is uniquely tailored to the student, incorporating strategies to accommodate their preferred learning style, integrate extracurricular activities, and address any personal objectives or challenges they may have.\n",
        "\n",
        "Format the study plan as follows,\n",
        "Name of student:\n",
        "Plan for Monday:\n",
        "Plan for Tuesday:\n",
        "Plan for Wednesday:\n",
        "Plan for Thursday:\n",
        "Plan for Friday:\n",
        "Plan for Saturday:\n",
        "Plan for Sunday:\n",
        "Guidance for implementation:\n",
        "  Emphasize the importance of flexibility in adapting study plans based on evolving needs.\n",
        "  Provide guidance on plan implementation and utilize available resources to enhance effectiveness.\n",
        "\"\"\"\n",
        ")\n"
      ]
    },
    {
      "cell_type": "markdown",
      "metadata": {
        "id": "0WW3fHVVGbUz"
      },
      "source": [
        "#### Running the chain"
      ]
    },
    {
      "cell_type": "code",
      "execution_count": 47,
      "metadata": {
        "colab": {
          "base_uri": "https://localhost:8080/"
        },
        "id": "4Vv-EqDbGahB",
        "outputId": "1ce0763a-075b-4c9b-9d3e-c7ae5bd9d4da"
      },
      "outputs": [
        {
          "name": "stdout",
          "output_type": "stream",
          "text": [
            "Name of student: John Doe\n",
            "\n",
            "Plan for Monday:\n",
            "- Review programming concepts covered in class\n",
            "- Practice coding exercises focusing on visual learning techniques\n",
            "- Attend study group session to discuss challenging topics\n",
            "\n",
            "Plan for Tuesday:\n",
            "- Watch online tutorials on programming to reinforce understanding\n",
            "- Work on a programming project related to personal objectives\n",
            "- Participate in a sports activity to refresh and recharge\n",
            "\n",
            "Plan for Wednesday:\n",
            "- Review and revise notes on programming fundamentals\n",
            "- Collaborate with classmates on a coding assignment\n",
            "- Reflect on time management strategies to overcome challenges\n",
            "\n",
            "Plan for Thursday:\n",
            "- Attend a workshop on time management skills\n",
            "- Study programming algorithms and problem-solving techniques\n",
            "- Engage in a physical activity to boost productivity\n",
            "\n",
            "Plan for Friday:\n",
            "- Review and practice coding exercises from previous topics\n",
            "- Work on a mini-project to apply learned concepts\n",
            "- Reflect on progress made towards becoming a software engineer\n",
            "\n",
            "Plan for Saturday:\n",
            "- Participate in a coding competition or hackathon\n",
            "- Explore new programming languages or technologies\n",
            "- Take time to relax and unwind to maintain a healthy work-life balance\n",
            "\n",
            "Plan for Sunday:\n",
            "- Review the week's learning outcomes and set goals for the upcoming week\n",
            "- Reflect on personal objectives and adjust study plan accordingly\n",
            "- Prepare for the week ahead by organizing study materials and setting priorities\n",
            "\n",
            "Guidance for implementation:\n",
            "- Encourage John to stay organized by using a planner or digital calendar to track study sessions and extracurricular activities\n",
            "- Suggest seeking help from professors, tutors, or online resources when facing challenges in programming\n",
            "- Remind John to take breaks and prioritize self-care to avoid burnout and maintain motivation.\n"
          ]
        }
      ],
      "source": [
        "chain = LLMChain(llm = openAi_model, prompt=prompt_template)\n",
        "print(chain.run(data=data[0]))"
      ]
    }
  ],
  "metadata": {
    "colab": {
      "provenance": []
    },
    "kernelspec": {
      "display_name": "Python 3",
      "name": "python3"
    },
    "language_info": {
      "name": "python"
    }
  },
  "nbformat": 4,
  "nbformat_minor": 0
}
